{
 "cells": [
  {
   "cell_type": "code",
   "execution_count": 2,
   "metadata": {},
   "outputs": [
    {
     "name": "stdout",
     "output_type": "stream",
     "text": [
      "{'21bd2d8b-083a-4e43-a64e-3fd254587c22': {'chunk': 'test', 'data': 'updated test'}}\n",
      "[{}]\n"
     ]
    }
   ],
   "source": [
    "from src.database import Database\n",
    "\n",
    "# Initialize the database\n",
    "db = Database()\n",
    "\n",
    "# Begin a transaction\n",
    "db.begin_transaction()\n",
    "\n",
    "# Perform multiple operations within the transaction\n",
    "record_id = db.insert({\"chunk\": \"test\", \"data\": \"test\"})\n",
    "db.update(record_id, {\"chunk\": \"test\", \"data\": \"updated test\"})\n",
    "\n",
    "# Optionally, check the current state (if needed)\n",
    "print(db.data[db.current_branch])  # Should show the updated record\n",
    "\n",
    "print(db.transactions)  # Should show the transactions\n",
    "db.commit_transaction()  # Commit the transaction"
   ]
  },
  {
   "cell_type": "code",
   "execution_count": 4,
   "metadata": {},
   "outputs": [
    {
     "name": "stdout",
     "output_type": "stream",
     "text": [
      "[{'21bd2d8b-083a-4e43-a64e-3fd254587c22': {'chunk': 'test', 'data': 'updated test'}}]\n"
     ]
    }
   ],
   "source": [
    "db.begin_transaction()  # Begin a new transaction\n",
    "db.insert({\"chunk\": \"test2\", \"data\": \"test2\"})\n",
    "db.insert({\"chunk\": \"test3\", \"data\": \"test3\"})\n",
    "db.commit_transaction()\n",
    "print(db.transactions)"
   ]
  }
 ],
 "metadata": {
  "kernelspec": {
   "display_name": ".venv",
   "language": "python",
   "name": "python3"
  },
  "language_info": {
   "codemirror_mode": {
    "name": "ipython",
    "version": 3
   },
   "file_extension": ".py",
   "mimetype": "text/x-python",
   "name": "python",
   "nbconvert_exporter": "python",
   "pygments_lexer": "ipython3",
   "version": "3.11.7"
  }
 },
 "nbformat": 4,
 "nbformat_minor": 2
}
